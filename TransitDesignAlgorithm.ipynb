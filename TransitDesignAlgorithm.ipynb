{
 "cells": [
  {
   "cell_type": "markdown",
   "metadata": {},
   "source": [
    "# Algorithmic Design of New Transit Routes Using Open Data"
   ]
  },
  {
   "cell_type": "markdown",
   "metadata": {},
   "source": [
    "### Step 1: Load data"
   ]
  },
  {
   "cell_type": "code",
   "execution_count": 1,
   "metadata": {},
   "outputs": [],
   "source": [
    "import geopandas as gpd\n",
    "import pandas as pd\n",
    "from Data import data\n",
    "\n",
    "# Load the data\n",
    "blocks = gpd.read_file(data.blocks)\n",
    "rect = gpd.read_file(data.rect)\n",
    "\n",
    "# Convert the coordinate reference system of the blocks\n",
    "development = gpd.read_file(data.development).to_crs(blocks.crs)\n",
    "neighborhoods = gpd.read_file(data.neighborhoods).to_crs(blocks.crs)\n",
    "zones = gpd.read_file(data.zones).to_crs(blocks.crs).to_crs(blocks.crs)\n",
    "stop_coverage = gpd.read_file(data.stop_coverage).to_crs(blocks.crs)\n",
    "stops = gpd.read_file(data.stops).to_crs(blocks.crs)\n",
    "streets = gpd.read_file(data.streets).to_crs(blocks.crs)\n",
    "\n"
   ]
  },
  {
   "cell_type": "markdown",
   "metadata": {},
   "source": [
    "### Step 2: Filter blocks"
   ]
  },
  {
   "cell_type": "code",
   "execution_count": 2,
   "metadata": {},
   "outputs": [
    {
     "name": "stderr",
     "output_type": "stream",
     "text": [
      "/Library/Frameworks/Python.framework/Versions/3.11/lib/python3.11/site-packages/geopandas/geodataframe.py:1819: SettingWithCopyWarning: \n",
      "A value is trying to be set on a copy of a slice from a DataFrame.\n",
      "Try using .loc[row_indexer,col_indexer] = value instead\n",
      "\n",
      "See the caveats in the documentation: https://pandas.pydata.org/pandas-docs/stable/user_guide/indexing.html#returning-a-view-versus-a-copy\n",
      "  super().__setitem__(key, value)\n"
     ]
    }
   ],
   "source": [
    "from functions import filter_blocks\n",
    "filtered_blocks = filter_blocks(blocks, rect, development, neighborhoods)"
   ]
  },
  {
   "cell_type": "markdown",
   "metadata": {},
   "source": [
    "### Step 3: Score blocks"
   ]
  },
  {
   "cell_type": "code",
   "execution_count": 3,
   "metadata": {},
   "outputs": [],
   "source": [
    "from functions import score_blocks\n",
    "scored_blocks = score_blocks(filtered_blocks, stop_coverage, zones, stops)\n",
    "\n",
    "# Append the scores to the filtered blocks\n",
    "filtered_blocks[\"score\"] = filtered_blocks[\"OBJECTID\"].map(scored_blocks)"
   ]
  },
  {
   "cell_type": "markdown",
   "metadata": {},
   "source": [
    "### Step 4: Propose stops"
   ]
  },
  {
   "cell_type": "code",
   "execution_count": 4,
   "metadata": {},
   "outputs": [
    {
     "data": {
      "image/svg+xml": [
       "<svg xmlns=\"http://www.w3.org/2000/svg\" xmlns:xlink=\"http://www.w3.org/1999/xlink\" width=\"100.0\" height=\"100.0\" viewBox=\"-122.30298600123099 47.62569081617013 0.02535188457166271 0.018402074418489178\" preserveAspectRatio=\"xMinYMin meet\"><g transform=\"matrix(1,0,0,-1,0,95.26978370675874)\"><g><circle cx=\"-122.30204704254315\" cy=\"47.64315393190078\" r=\"0.0007605565371498813\" stroke=\"#555555\" stroke-width=\"0.0002535188457166271\" fill=\"#66cc99\" opacity=\"0.6\" /><circle cx=\"-122.30034104888601\" cy=\"47.64062002547835\" r=\"0.0007605565371498813\" stroke=\"#555555\" stroke-width=\"0.0002535188457166271\" fill=\"#66cc99\" opacity=\"0.6\" /><circle cx=\"-122.3003236867458\" cy=\"47.64243707362453\" r=\"0.0007605565371498813\" stroke=\"#555555\" stroke-width=\"0.0002535188457166271\" fill=\"#66cc99\" opacity=\"0.6\" /><circle cx=\"-122.29943399906118\" cy=\"47.637904729570664\" r=\"0.0007605565371498813\" stroke=\"#555555\" stroke-width=\"0.0002535188457166271\" fill=\"#66cc99\" opacity=\"0.6\" /><circle cx=\"-122.29940869706319\" cy=\"47.63951777228118\" r=\"0.0007605565371498813\" stroke=\"#555555\" stroke-width=\"0.0002535188457166271\" fill=\"#66cc99\" opacity=\"0.6\" /><circle cx=\"-122.29916575370116\" cy=\"47.63220191299788\" r=\"0.0007605565371498813\" stroke=\"#555555\" stroke-width=\"0.0002535188457166271\" fill=\"#66cc99\" opacity=\"0.6\" /><circle cx=\"-122.29504957601213\" cy=\"47.62662977485797\" r=\"0.0007605565371498813\" stroke=\"#555555\" stroke-width=\"0.0002535188457166271\" fill=\"#66cc99\" opacity=\"0.6\" /><circle cx=\"-122.29083326340414\" cy=\"47.636720365620256\" r=\"0.0007605565371498813\" stroke=\"#555555\" stroke-width=\"0.0002535188457166271\" fill=\"#66cc99\" opacity=\"0.6\" /><circle cx=\"-122.29079183698016\" cy=\"47.629957607417374\" r=\"0.0007605565371498813\" stroke=\"#555555\" stroke-width=\"0.0002535188457166271\" fill=\"#66cc99\" opacity=\"0.6\" /><circle cx=\"-122.29069131538317\" cy=\"47.635214525419975\" r=\"0.0007605565371498813\" stroke=\"#555555\" stroke-width=\"0.0002535188457166271\" fill=\"#66cc99\" opacity=\"0.6\" /><circle cx=\"-122.28927891604616\" cy=\"47.63158425691175\" r=\"0.0007605565371498813\" stroke=\"#555555\" stroke-width=\"0.0002535188457166271\" fill=\"#66cc99\" opacity=\"0.6\" /><circle cx=\"-122.28819847828017\" cy=\"47.63779028188735\" r=\"0.0007605565371498813\" stroke=\"#555555\" stroke-width=\"0.0002535188457166271\" fill=\"#66cc99\" opacity=\"0.6\" /><circle cx=\"-122.28794024168117\" cy=\"47.64003433641826\" r=\"0.0007605565371498813\" stroke=\"#555555\" stroke-width=\"0.0002535188457166271\" fill=\"#66cc99\" opacity=\"0.6\" /><circle cx=\"-122.28402529061017\" cy=\"47.63579690817277\" r=\"0.0007605565371498813\" stroke=\"#555555\" stroke-width=\"0.0002535188457166271\" fill=\"#66cc99\" opacity=\"0.6\" /><circle cx=\"-122.28400876953914\" cy=\"47.63738760807345\" r=\"0.0007605565371498813\" stroke=\"#555555\" stroke-width=\"0.0002535188457166271\" fill=\"#66cc99\" opacity=\"0.6\" /><circle cx=\"-122.28282013005828\" cy=\"47.641741950102\" r=\"0.0007605565371498813\" stroke=\"#555555\" stroke-width=\"0.0002535188457166271\" fill=\"#66cc99\" opacity=\"0.6\" /><circle cx=\"-122.27935503800614\" cy=\"47.629737777752574\" r=\"0.0007605565371498813\" stroke=\"#555555\" stroke-width=\"0.0002535188457166271\" fill=\"#66cc99\" opacity=\"0.6\" /><circle cx=\"-122.27857307534717\" cy=\"47.63094182611246\" r=\"0.0007605565371498813\" stroke=\"#555555\" stroke-width=\"0.0002535188457166271\" fill=\"#66cc99\" opacity=\"0.6\" /></g></g></svg>"
      ],
      "text/plain": [
       "<MULTIPOINT ((-122.302 47.643), (-122.3 47.641), (-122.3 47.642), (-122.299 ...>"
      ]
     },
     "execution_count": 4,
     "metadata": {},
     "output_type": "execute_result"
    }
   ],
   "source": [
    "from functions import propose_stops\n",
    "proposed_stops = propose_stops(filtered_blocks, stop_coverage, streets, zones, stops)\n",
    "\n",
    "# Display the proposed stops\n",
    "proposed_stops.union_all()"
   ]
  }
 ],
 "metadata": {
  "kernelspec": {
   "display_name": "Python 3",
   "language": "python",
   "name": "python3"
  },
  "language_info": {
   "codemirror_mode": {
    "name": "ipython",
    "version": 3
   },
   "file_extension": ".py",
   "mimetype": "text/x-python",
   "name": "python",
   "nbconvert_exporter": "python",
   "pygments_lexer": "ipython3",
   "version": "3.11.3"
  }
 },
 "nbformat": 4,
 "nbformat_minor": 2
}
